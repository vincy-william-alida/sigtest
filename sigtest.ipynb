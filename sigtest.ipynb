{
 "cells": [
  {
   "cell_type": "markdown",
   "metadata": {},
   "source": [
    "z-test proportion validation"
   ]
  },
  {
   "cell_type": "code",
   "execution_count": 4,
   "metadata": {},
   "outputs": [
    {
     "name": "stdout",
     "output_type": "stream",
     "text": [
      "-0.1309569281468873\n",
      "1-cdf:  0.4479046901242697\n",
      "cdf:  0.5520953098757303\n",
      "0.8958093802485394\n"
     ]
    }
   ],
   "source": [
    "import math \n",
    "import scipy.stats as stats\n",
    "\n",
    "totalSample1Count = 15+11+25# 51\n",
    "totalSample2Count = 15+9+25# 49\n",
    "\n",
    "sample1cat1 = 15/totalSample1Count\n",
    "sample2cat1 = 15/totalSample2Count\n",
    "\n",
    "popu = (15 + 15)/(totalSample1Count + totalSample2Count)\n",
    "zScore = (sample1cat1 - sample2cat1) / math.sqrt(popu*(1-popu)*(1/totalSample1Count + 1/totalSample2Count))\n",
    "print(zScore)\n",
    "\n",
    "cdf = min(1 - stats.norm.cdf(abs(zScore)), stats.norm.cdf(abs(zScore)))\n",
    "print(\"1-cdf: \", 1 - stats.norm.cdf(abs(zScore)))\n",
    "print(\"cdf: \", stats.norm.cdf(abs(zScore)))\n",
    "\n",
    "pValue = 2 * cdf\n",
    "\n",
    "print(pValue)\n",
    "\n"
   ]
  },
  {
   "cell_type": "code",
   "execution_count": 5,
   "metadata": {},
   "outputs": [
    {
     "name": "stdout",
     "output_type": "stream",
     "text": [
      "-0.20004001200400173\n",
      "1-cdf:  0.4207246442216692\n",
      "cdf:  0.5792753557783308\n",
      "0.8414492884433384\n"
     ]
    }
   ],
   "source": [
    "sample1cat2 = 25/totalSample1Count\n",
    "sample2cat2 = 25/totalSample2Count\n",
    "\n",
    "popu = (25 + 25)/(totalSample1Count + totalSample2Count)\n",
    "zScore = (sample1cat2 - sample2cat2) / math.sqrt(popu*(1-popu)*(1/totalSample1Count + 1/totalSample2Count))\n",
    "print(zScore)\n",
    "\n",
    "cdf = min(1 - stats.norm.cdf(abs(zScore)), stats.norm.cdf(abs(zScore)))\n",
    "print(\"1-cdf: \", 1 - stats.norm.cdf(abs(zScore)))\n",
    "print(\"cdf: \", stats.norm.cdf(abs(zScore)))\n",
    "\n",
    "pValue = 2 * cdf\n",
    "\n",
    "print(pValue)\n",
    "\n"
   ]
  },
  {
   "cell_type": "code",
   "execution_count": 6,
   "metadata": {},
   "outputs": [
    {
     "name": "stdout",
     "output_type": "stream",
     "text": [
      "0.4000800240080028\n",
      "1-cdf:  0.34454878840871617\n",
      "cdf:  0.6554512115912838\n",
      "0.6890975768174323\n"
     ]
    }
   ],
   "source": [
    "sample1cat2 = 11/totalSample1Count\n",
    "sample2cat2 = 9/totalSample2Count\n",
    "\n",
    "popu = (11 + 9)/(totalSample1Count + totalSample2Count)\n",
    "zScore = (sample1cat2 - sample2cat2) / math.sqrt(popu*(1-popu)*(1/totalSample1Count + 1/totalSample2Count))\n",
    "print(zScore)\n",
    "\n",
    "cdf = min(1 - stats.norm.cdf(abs(zScore)), stats.norm.cdf(abs(zScore)))\n",
    "print(\"1-cdf: \", 1 - stats.norm.cdf(abs(zScore)))\n",
    "print(\"cdf: \", stats.norm.cdf(abs(zScore)))\n",
    "\n",
    "pValue = 2 * cdf\n",
    "\n",
    "print(pValue)\n",
    "\n"
   ]
  },
  {
   "cell_type": "code",
   "execution_count": 7,
   "metadata": {},
   "outputs": [
    {
     "name": "stdout",
     "output_type": "stream",
     "text": [
      "4.765998852497966\n",
      "1-cdf:  9.396016401597151e-07\n",
      "cdf:  0.9999990603983598\n",
      "1.8792032803194303e-06\n"
     ]
    }
   ],
   "source": [
    "totalSample1Count = 3910\n",
    "totalSample2Count = 3400\n",
    "\n",
    "sample1cat1 = 0.3\n",
    "sample2cat1 = 0.25\n",
    "\n",
    "popu = (totalSample1Count*sample1cat1 + sample2cat1 * totalSample2Count)/(totalSample1Count + totalSample2Count)\n",
    "zScore = (sample1cat1 - sample2cat1) / math.sqrt(popu*(1-popu)*(1/totalSample1Count + 1/totalSample2Count))\n",
    "print(zScore)\n",
    "\n",
    "cdf = min(1 - stats.norm.cdf(abs(zScore)), stats.norm.cdf(abs(zScore)))\n",
    "print(\"1-cdf: \", 1 - stats.norm.cdf(abs(zScore)))\n",
    "print(\"cdf: \", stats.norm.cdf(abs(zScore)))\n",
    "\n",
    "pValue = 2 * cdf\n",
    "\n",
    "print(pValue)\n",
    "# 0.0000018792032803194303\n"
   ]
  },
  {
   "cell_type": "markdown",
   "metadata": {},
   "source": [
    "t-test mean validation"
   ]
  },
  {
   "cell_type": "code",
   "execution_count": 19,
   "metadata": {},
   "outputs": [
    {
     "name": "stdout",
     "output_type": "stream",
     "text": [
      "tscore:  -2.923270799729839\n",
      "c:  0.6836874965979243\n",
      "dof:  282.3695008982128\n",
      "pVal:  0.0037441744461166326\n"
     ]
    }
   ],
   "source": [
    "sample1count = 170\n",
    "sample2count = 130\n",
    "sample1mean = 2.84\n",
    "sample2mean = 2.981\n",
    "sample1variance = 0.2704\n",
    "sample2variance = 0.09566649\n",
    "\n",
    "tscore = (sample1mean - sample2mean) / (math.sqrt(sample1variance/sample1count + sample2variance/sample2count))\n",
    "print(\"tscore: \", tscore)\n",
    "c = (sample1variance/sample1count)/(sample1variance/sample1count + sample2variance/sample2count)\n",
    "print(\"c: \",c)\n",
    "dof = (sample1count - 1)*(sample2count - 1)/((sample2count - 1)*c**2+(sample1count-1)*(1-c)**2)\n",
    "print(\"dof: \",dof)\n",
    "\n",
    "pVal = 2 * (1 - stats.t.cdf(abs(tscore), dof))\n",
    "\n",
    "print(\"pVal: \",pVal)"
   ]
  }
 ],
 "metadata": {
  "kernelspec": {
   "display_name": "Python 3",
   "language": "python",
   "name": "python3"
  },
  "language_info": {
   "codemirror_mode": {
    "name": "ipython",
    "version": 3
   },
   "file_extension": ".py",
   "mimetype": "text/x-python",
   "name": "python",
   "nbconvert_exporter": "python",
   "pygments_lexer": "ipython3",
   "version": "3.10.10"
  }
 },
 "nbformat": 4,
 "nbformat_minor": 2
}
