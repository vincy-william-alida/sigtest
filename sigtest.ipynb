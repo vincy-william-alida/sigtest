{
 "cells": [
  {
   "cell_type": "markdown",
   "metadata": {},
   "source": [
    "# Z-test proportion validation"
   ]
  },
  {
   "cell_type": "code",
   "execution_count": 4,
   "metadata": {},
   "outputs": [
    {
     "name": "stdout",
     "output_type": "stream",
     "text": [
      "-0.1309569281468873\n",
      "1-cdf:  0.4479046901242697\n",
      "cdf:  0.5520953098757303\n",
      "0.8958093802485394\n"
     ]
    }
   ],
   "source": [
    "import math \n",
    "import scipy.stats as stats\n",
    "\n",
    "totalSample1Count = 15+11+25# 51\n",
    "totalSample2Count = 15+9+25# 49\n",
    "\n",
    "sample1cat1 = 15/totalSample1Count\n",
    "sample2cat1 = 15/totalSample2Count\n",
    "\n",
    "popu = (15 + 15)/(totalSample1Count + totalSample2Count)\n",
    "zScore = (sample1cat1 - sample2cat1) / math.sqrt(popu*(1-popu)*(1/totalSample1Count + 1/totalSample2Count))\n",
    "print(zScore)\n",
    "\n",
    "cdf = min(1 - stats.norm.cdf(abs(zScore)), stats.norm.cdf(abs(zScore)))\n",
    "print(\"1-cdf: \", 1 - stats.norm.cdf(abs(zScore)))\n",
    "print(\"cdf: \", stats.norm.cdf(abs(zScore)))\n",
    "\n",
    "pValue = 2 * cdf\n",
    "\n",
    "print(pValue)\n",
    "\n"
   ]
  },
  {
   "cell_type": "code",
   "execution_count": 5,
   "metadata": {},
   "outputs": [
    {
     "name": "stdout",
     "output_type": "stream",
     "text": [
      "-0.20004001200400173\n",
      "1-cdf:  0.4207246442216692\n",
      "cdf:  0.5792753557783308\n",
      "0.8414492884433384\n"
     ]
    }
   ],
   "source": [
    "sample1cat2 = 25/totalSample1Count\n",
    "sample2cat2 = 25/totalSample2Count\n",
    "\n",
    "popu = (25 + 25)/(totalSample1Count + totalSample2Count)\n",
    "zScore = (sample1cat2 - sample2cat2) / math.sqrt(popu*(1-popu)*(1/totalSample1Count + 1/totalSample2Count))\n",
    "print(zScore)\n",
    "\n",
    "cdf = min(1 - stats.norm.cdf(abs(zScore)), stats.norm.cdf(abs(zScore)))\n",
    "print(\"1-cdf: \", 1 - stats.norm.cdf(abs(zScore)))\n",
    "print(\"cdf: \", stats.norm.cdf(abs(zScore)))\n",
    "\n",
    "pValue = 2 * cdf\n",
    "\n",
    "print(pValue)\n",
    "\n"
   ]
  },
  {
   "cell_type": "code",
   "execution_count": 6,
   "metadata": {},
   "outputs": [
    {
     "name": "stdout",
     "output_type": "stream",
     "text": [
      "0.4000800240080028\n",
      "1-cdf:  0.34454878840871617\n",
      "cdf:  0.6554512115912838\n",
      "0.6890975768174323\n"
     ]
    }
   ],
   "source": [
    "sample1cat2 = 11/totalSample1Count\n",
    "sample2cat2 = 9/totalSample2Count\n",
    "\n",
    "popu = (11 + 9)/(totalSample1Count + totalSample2Count)\n",
    "zScore = (sample1cat2 - sample2cat2) / math.sqrt(popu*(1-popu)*(1/totalSample1Count + 1/totalSample2Count))\n",
    "print(zScore)\n",
    "\n",
    "cdf = min(1 - stats.norm.cdf(abs(zScore)), stats.norm.cdf(abs(zScore)))\n",
    "print(\"1-cdf: \", 1 - stats.norm.cdf(abs(zScore)))\n",
    "print(\"cdf: \", stats.norm.cdf(abs(zScore)))\n",
    "\n",
    "pValue = 2 * cdf\n",
    "\n",
    "print(pValue)\n",
    "\n"
   ]
  },
  {
   "cell_type": "code",
   "execution_count": 81,
   "metadata": {},
   "outputs": [
    {
     "name": "stdout",
     "output_type": "stream",
     "text": [
      "{0: 3910, 1: 3400, 2: 3843}\n"
     ]
    },
    {
     "data": {
      "text/plain": [
       "{0: {(0, 1): {'zScore': 4.765998852497966,\n",
       "   'pValue': 1.8792032803194303e-06,\n",
       "   'CI': 0.95,\n",
       "   'significant': True},\n",
       "  (0, 2): {'zScore': 5.477399771839801,\n",
       "   'pValue': 4.316213386701406e-08,\n",
       "   'CI': 0.95,\n",
       "   'significant': True},\n",
       "  (1, 2): {'zScore': 0.5316641116662016,\n",
       "   'pValue': 0.5949586523819528,\n",
       "   'CI': 0.95,\n",
       "   'significant': False}},\n",
       " 1: {(0, 1): {'zScore': 0.0, 'pValue': 1.0, 'CI': 0.95, 'significant': False},\n",
       "  (0, 2): {'zScore': -1.8218254601267163,\n",
       "   'pValue': 0.06848147330800991,\n",
       "   'CI': 0.95,\n",
       "   'significant': False},\n",
       "  (1, 2): {'zScore': -1.7577083529204316,\n",
       "   'pValue': 0.07879714586921427,\n",
       "   'CI': 0.95,\n",
       "   'significant': False}},\n",
       " 2: {(0, 1): {'zScore': -5.120339514769209,\n",
       "   'pValue': 3.049860692883044e-07,\n",
       "   'CI': 0.95,\n",
       "   'significant': True},\n",
       "  (0, 2): {'zScore': -3.7060757833459284,\n",
       "   'pValue': 0.00021049533911421392,\n",
       "   'CI': 0.95,\n",
       "   'significant': True},\n",
       "  (1, 2): {'zScore': 1.5162772085587493,\n",
       "   'pValue': 0.12944927218108937,\n",
       "   'CI': 0.95,\n",
       "   'significant': False}}}"
      ]
     },
     "execution_count": 81,
     "metadata": {},
     "output_type": "execute_result"
    }
   ],
   "source": [
    "from itertools import combinations \n",
    "\n",
    "data = [[1173,850,940],\n",
    "        [1955,1700,2001],\n",
    "        [782,850,902]]\n",
    "\n",
    "# testData =  [[\n",
    "#               [1173,850,940],\n",
    "#               [1955,1700,2001]\n",
    "#               ],\n",
    "#              [\n",
    "#               [782,850,902],\n",
    "#               [1173,850,940]\n",
    "#              ],\n",
    "#              [\n",
    "#               [1955,1700,200],\n",
    "#               [1955,1700,200]\n",
    "#              ]]\n",
    "\n",
    "# testData Dimensions: 3,2,3\n",
    "\n",
    "3-3\n",
    "0-0,1-0,\n",
    "\n",
    "def computeZTest(data={}, confidenceLevel = 0):\n",
    "    x = len(data) \n",
    "    y = len(data[0])\n",
    "\n",
    "    yCombinations = list(combinations(list(range(y)),2))\n",
    "    totals = {}\n",
    "    for column in range(y):\n",
    "        for row in range(x):\n",
    "            if column not in totals:\n",
    "                totals[column] = data[row][column]\n",
    "            else:\n",
    "                totals[column]+= data[row][column]\n",
    "    print(totals)\n",
    "    result = {}\n",
    "    \n",
    "    for idx in range(x):\n",
    "        # print(idx)\n",
    "        result[idx] = {}\n",
    "        # print(yCombinations)\n",
    "        for comb in yCombinations:\n",
    "            # print(idx,comb)\n",
    "            result[idx][comb] = zTestMetrics(cb = comb, sT = totals, \n",
    "                                             data = data, rowIdx = idx, \n",
    "                                             confidenceLevel = confidenceLevel)\n",
    "        \n",
    "\n",
    "    return result\n",
    "\n",
    "\n",
    "def zTestMetrics(cb = {}, sT = {}, data = [], rowIdx = 0, confidenceLevel = 0):\n",
    "    totalSample1Count = sT[cb[0]]\n",
    "    totalSample2Count = sT[cb[1]]\n",
    "\n",
    "    sample1category = data[rowIdx][cb[0]]\n",
    "    sample2category = data[rowIdx][cb[1]]\n",
    "\n",
    "    popu = (sample1category + sample2category)/(totalSample1Count + totalSample2Count)\n",
    "    zScore = (sample1category/totalSample1Count - sample2category/totalSample2Count) / math.sqrt(popu*(1-popu)*(1/totalSample1Count + 1/totalSample2Count))\n",
    "\n",
    "\n",
    "    cdf = min(1 - stats.norm.cdf(abs(zScore)), stats.norm.cdf(abs(zScore)))\n",
    "    pValue = 2 * cdf\n",
    "\n",
    "    significant = pValue <= 1-confidenceLevel\n",
    "\n",
    "    return {\"zScore\":zScore, \n",
    "            \"pValue\":pValue, \n",
    "            \"CI\":confidenceLevel,\n",
    "            \"significant\": significant }\n",
    "\n",
    "result = computeZTest(data, 0.95)\n",
    "\n",
    "result\n",
    "\n"
   ]
  },
  {
   "cell_type": "markdown",
   "metadata": {},
   "source": [
    "# T-test mean validation"
   ]
  },
  {
   "cell_type": "code",
   "execution_count": 19,
   "metadata": {},
   "outputs": [
    {
     "name": "stdout",
     "output_type": "stream",
     "text": [
      "tscore:  -2.923270799729839\n",
      "c:  0.6836874965979243\n",
      "dof:  282.3695008982128\n",
      "pVal:  0.0037441744461166326\n"
     ]
    }
   ],
   "source": [
    "sample1count = 170\n",
    "sample2count = 130\n",
    "sample1mean = 2.84\n",
    "sample2mean = 2.981\n",
    "sample1variance = 0.2704\n",
    "sample2variance = 0.09566649\n",
    "\n",
    "tscore = (sample1mean - sample2mean) / (math.sqrt(sample1variance/sample1count + sample2variance/sample2count))\n",
    "print(\"tscore: \", tscore)\n",
    "c = (sample1variance/sample1count)/(sample1variance/sample1count + sample2variance/sample2count)\n",
    "print(\"c: \",c)\n",
    "dof = (sample1count - 1)*(sample2count - 1)/((sample2count - 1)*c**2+(sample1count-1)*(1-c)**2)\n",
    "print(\"dof: \",dof)\n",
    "\n",
    "pVal = 2 * (1 - stats.t.cdf(abs(tscore), dof))\n",
    "\n",
    "print(\"pVal: \",pVal)"
   ]
  },
  {
   "cell_type": "markdown",
   "metadata": {},
   "source": [
    "# T-test NPS validation"
   ]
  },
  {
   "cell_type": "code",
   "execution_count": 37,
   "metadata": {},
   "outputs": [
    {
     "name": "stdout",
     "output_type": "stream",
     "text": [
      "sample1 NPS variance:  6502.097450790578\n",
      "sample2 NPS variance:  4497.55087961366\n",
      "tscore:  1.0470873537520569\n",
      "c:  0.5749070281960877\n",
      "dof:  5917.636899671308\n",
      "pVal:  0.29510205649868926\n"
     ]
    }
   ],
   "source": [
    "sample1count = 3100\n",
    "sample2count = 2900\n",
    "sample1promoters = 2170\n",
    "sample1passives = 310\n",
    "sample1detractors = 620 \n",
    "sample1NPS = 100 * (sample1promoters/sample1count - sample1detractors/sample1count)\n",
    "sample1NPSVariance = (1/(sample1count-1))*(sample1promoters*(100-sample1NPS)**2 + sample1passives*(0-sample1NPS)**2 + sample1detractors*(-100-sample1NPS)**2)\n",
    "sample2promoters = 1682\n",
    "sample2passives = 928\n",
    "sample2detractors = 290 \n",
    "sample2NPS = 100 * (sample2promoters/sample2count - sample2detractors/sample2count)\n",
    "sample2NPSVariance = (1/(sample2count-1))*(sample2promoters*(100-sample2NPS)**2 + sample2passives*(0-sample2NPS)**2 + sample2detractors*(-100-sample2NPS)**2)\n",
    "\n",
    "print(\"sample1 NPS variance: \", sample1NPSVariance)\n",
    "print(\"sample2 NPS variance: \", sample2NPSVariance)\n",
    "\n",
    "tscore = (sample1NPS - sample2NPS) / (math.sqrt(sample1NPSVariance/sample1count + sample2NPSVariance/sample2count))\n",
    "print(\"tscore: \", tscore)\n",
    "c = (sample1NPSVariance/sample1count) / (sample1NPSVariance/sample1count + sample2NPSVariance/sample2count) \n",
    "print(\"c: \",c)\n",
    "dof = (sample1count - 1)*(sample2count - 1)/((sample2count - 1)*c**2+(sample1count-1)*(1-c)**2)\n",
    "print(\"dof: \",dof)\n",
    "\n",
    "pVal = 2 * (1 - stats.t.cdf(abs(tscore), dof))\n",
    "\n",
    "print(\"pVal: \",pVal)"
   ]
  }
 ],
 "metadata": {
  "kernelspec": {
   "display_name": "Python 3",
   "language": "python",
   "name": "python3"
  },
  "language_info": {
   "codemirror_mode": {
    "name": "ipython",
    "version": 3
   },
   "file_extension": ".py",
   "mimetype": "text/x-python",
   "name": "python",
   "nbconvert_exporter": "python",
   "pygments_lexer": "ipython3",
   "version": "3.10.10"
  }
 },
 "nbformat": 4,
 "nbformat_minor": 2
}
