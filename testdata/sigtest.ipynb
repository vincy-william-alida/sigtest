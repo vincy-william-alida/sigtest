{
 "cells": [
  {
   "cell_type": "code",
   "execution_count": 27,
   "metadata": {},
   "outputs": [
    {
     "name": "stdout",
     "output_type": "stream",
     "text": [
      "-0.1309569281468873\n",
      "1-cdf:  0.4479046901242697\n",
      "cdf:  0.5520953098757303\n",
      "0.8958093802485394\n"
     ]
    }
   ],
   "source": [
    "import math \n",
    "import scipy.stats as stats\n",
    "\n",
    "totalSample1Count = 15+11+25# 51\n",
    "totalSample2Count = 15+9+25# 49\n",
    "\n",
    "sample1cat1 = 15/totalSample1Count\n",
    "sample2cat1 = 15/totalSample2Count\n",
    "\n",
    "popu = (15 + 15)/(totalSample1Count + totalSample2Count)\n",
    "zScore = (sample1cat1 - sample2cat1) / math.sqrt(popu*(1-popu)*(1/totalSample1Count + 1/totalSample2Count))\n",
    "print(zScore)\n",
    "\n",
    "cdf = min(1 - stats.norm.cdf(abs(zScore)), stats.norm.cdf(abs(zScore)))\n",
    "print(\"1-cdf: \", 1 - stats.norm.cdf(abs(zScore)))\n",
    "print(\"cdf: \", stats.norm.cdf(abs(zScore)))\n",
    "\n",
    "pValue = 2 * cdf\n",
    "\n",
    "print(pValue)\n",
    "\n"
   ]
  },
  {
   "cell_type": "code",
   "execution_count": 28,
   "metadata": {},
   "outputs": [
    {
     "name": "stdout",
     "output_type": "stream",
     "text": [
      "-0.20004001200400173\n",
      "1-cdf:  0.4207246442216692\n",
      "cdf:  0.5792753557783308\n",
      "0.8414492884433384\n"
     ]
    }
   ],
   "source": [
    "sample1cat2 = 25/totalSample1Count\n",
    "sample2cat2 = 25/totalSample2Count\n",
    "\n",
    "popu = (25 + 25)/(totalSample1Count + totalSample2Count)\n",
    "zScore = (sample1cat2 - sample2cat2) / math.sqrt(popu*(1-popu)*(1/totalSample1Count + 1/totalSample2Count))\n",
    "print(zScore)\n",
    "\n",
    "cdf = min(1 - stats.norm.cdf(abs(zScore)), stats.norm.cdf(abs(zScore)))\n",
    "print(\"1-cdf: \", 1 - stats.norm.cdf(abs(zScore)))\n",
    "print(\"cdf: \", stats.norm.cdf(abs(zScore)))\n",
    "\n",
    "pValue = 2 * cdf\n",
    "\n",
    "print(pValue)\n",
    "\n"
   ]
  },
  {
   "cell_type": "code",
   "execution_count": null,
   "metadata": {},
   "outputs": [],
   "source": [
    "sample1cat2 = 11/totalSample1Count\n",
    "sample2cat2 = 9/totalSample2Count\n",
    "\n",
    "popu = (11 + 9)/(totalSample1Count + totalSample2Count)\n",
    "zScore = (sample1cat2 - sample2cat2) / math.sqrt(popu*(1-popu)*(1/totalSample1Count + 1/totalSample2Count))\n",
    "print(zScore)\n",
    "\n",
    "cdf = min(1 - stats.norm.cdf(abs(zScore)), stats.norm.cdf(abs(zScore)))\n",
    "print(\"1-cdf: \", 1 - stats.norm.cdf(abs(zScore)))\n",
    "print(\"cdf: \", stats.norm.cdf(abs(zScore)))\n",
    "\n",
    "pValue = 2 * cdf\n",
    "\n",
    "print(pValue)\n",
    "\n"
   ]
  },
  {
   "cell_type": "code",
   "execution_count": 29,
   "metadata": {},
   "outputs": [
    {
     "name": "stdout",
     "output_type": "stream",
     "text": [
      "4.765998852497966\n",
      "1-cdf:  9.396016401597151e-07\n",
      "cdf:  0.9999990603983598\n",
      "1.8792032803194303e-06\n"
     ]
    }
   ],
   "source": [
    "totalSample1Count = 3910\n",
    "totalSample2Count = 3400\n",
    "\n",
    "sample1cat1 = 0.3\n",
    "sample2cat1 = 0.25\n",
    "\n",
    "popu = (totalSample1Count*sample1cat1 + sample2cat1 * totalSample2Count)/(totalSample1Count + totalSample2Count)\n",
    "zScore = (sample1cat1 - sample2cat1) / math.sqrt(popu*(1-popu)*(1/totalSample1Count + 1/totalSample2Count))\n",
    "print(zScore)\n",
    "\n",
    "cdf = min(1 - stats.norm.cdf(abs(zScore)), stats.norm.cdf(abs(zScore)))\n",
    "print(\"1-cdf: \", 1 - stats.norm.cdf(abs(zScore)))\n",
    "print(\"cdf: \", stats.norm.cdf(abs(zScore)))\n",
    "\n",
    "pValue = 2 * cdf\n",
    "\n",
    "print(pValue)\n",
    "# 0.0000018792032803194303\n"
   ]
  }
 ],
 "metadata": {
  "kernelspec": {
   "display_name": "Python 3",
   "language": "python",
   "name": "python3"
  },
  "language_info": {
   "codemirror_mode": {
    "name": "ipython",
    "version": 3
   },
   "file_extension": ".py",
   "mimetype": "text/x-python",
   "name": "python",
   "nbconvert_exporter": "python",
   "pygments_lexer": "ipython3",
   "version": "3.10.10"
  }
 },
 "nbformat": 4,
 "nbformat_minor": 2
}
